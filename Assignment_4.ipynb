{
  "cells": [
    {
      "cell_type": "code",
      "execution_count": 16,
      "id": "0fcba5ff",
      "metadata": {
        "id": "0fcba5ff"
      },
      "outputs": [],
      "source": [
        "import matplotlib.pyplot as plt\n",
        "import numpy as np\n",
        "import sympy as sym       #Lib for Symbolic Math\n",
        "from matplotlib import pyplot"
      ]
    },
    {
      "cell_type": "code",
      "execution_count": 17,
      "id": "1aae0048",
      "metadata": {
        "id": "1aae0048"
      },
      "outputs": [],
      "source": [
        "def objective(x):\n",
        "  return (x+3)**2"
      ]
    },
    {
      "cell_type": "code",
      "execution_count": 18,
      "id": "48152831",
      "metadata": {
        "id": "48152831"
      },
      "outputs": [],
      "source": [
        "def derivative(x):\n",
        "  return 2*(x + 3)"
      ]
    },
    {
      "cell_type": "code",
      "execution_count": 19,
      "id": "af866f6b",
      "metadata": {
        "id": "af866f6b"
      },
      "outputs": [],
      "source": [
        "def gradient_descent(alpha, start, max_iter):\n",
        "  x_list = list()\n",
        "  x= start;\n",
        "  x_list.append(x)\n",
        "  for i in range(max_iter):\n",
        "    gradient = derivative(x);\n",
        "    x = x - (alpha*gradient);\n",
        "    x_list.append(x);\n",
        "  return x_list"
      ]
    },
    {
      "cell_type": "code",
      "execution_count": 22,
      "id": "bd853838",
      "metadata": {
        "id": "bd853838"
      },
      "outputs": [],
      "source": [
        "alpha = 0.1       #Step_size\n",
        "start = 2         #Starting point\n",
        "max_iter = 30     #Limit on iterations\n",
        "x = sym.symbols('x')\n",
        "expr = (x+3)**2;   #target function"
      ]
    },
    {
      "cell_type": "code",
      "execution_count": 23,
      "id": "87567402",
      "metadata": {
        "colab": {
          "base_uri": "https://localhost:8080/",
          "height": 265
        },
        "id": "87567402",
        "outputId": "48c2529b-3d24-42d4-f7e4-fa66d2d9e638"
      },
      "outputs": [
        {
          "data": {
            "image/png": "[encoded data removed]",
            "text/plain": [
              "<Figure size 432x288 with 1 Axes>"
            ]
          },
          "metadata": {
            "needs_background": "light"
          },
          "output_type": "display_data"
        }
      ],
      "source": [
        "x_cordinate = np.linspace(-15,15,100)\n",
        "pyplot.plot(x_cordinate,objective(x_cordinate))\n",
        "pyplot.plot(2,objective(2),'ro')\n",
        "pyplot.show()"
      ]
    },
    {
      "cell_type": "code",
      "execution_count": 24,
      "id": "e912ad9f",
      "metadata": {
        "colab": {
          "base_uri": "https://localhost:8080/",
          "height": 265
        },
        "id": "e912ad9f",
        "outputId": "6163584c-a8d7-4461-9051-9fd53db8019c"
      },
      "outputs": [
        {
          "data": {
            "image/png": "[encoded data removed]",
            "text/plain": [
              "<Figure size 432x288 with 1 Axes>"
            ]
          },
          "metadata": {
            "needs_background": "light"
          },
          "output_type": "display_data"
        }
      ],
      "source": [
        "X = gradient_descent(alpha,start,max_iter)\n",
        "\n",
        "x_cordinate = np.linspace(-5,5,100)\n",
        "pyplot.plot(x_cordinate,objective(x_cordinate))\n",
        "\n",
        "X_arr = np.array(X)\n",
        "pyplot.plot(X_arr, objective(X_arr), '.-', color='red')\n",
        "pyplot.show()"
      ]
    }
  ],
  "metadata": {
    "colab": {
      "provenance": []
    },
    "kernelspec": {
      "display_name": "Python 3",
      "language": "python",
      "name": "python3"
    },
    "language_info": {
      "codemirror_mode": {
        "name": "ipython",
        "version": 3
      },
      "file_extension": ".py",
      "mimetype": "text/x-python",
      "name": "python",
      "nbconvert_exporter": "python",
      "pygments_lexer": "ipython3",
      "version": "3.8.11"
    }
  },
  "nbformat": 4,
  "nbformat_minor": 5
}
